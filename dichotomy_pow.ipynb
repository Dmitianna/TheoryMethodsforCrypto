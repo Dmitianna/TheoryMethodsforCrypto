{
 "cells": [
  {
   "cell_type": "code",
   "execution_count": null,
   "id": "27f532cb",
   "metadata": {},
   "outputs": [],
   "source": [
    "import time\n",
    "import sys\n",
    "import os\n",
    "sys.set_int_max_str_digits(0)"
   ]
  },
  {
   "cell_type": "code",
   "execution_count": null,
   "id": "a7e7263e",
   "metadata": {},
   "outputs": [],
   "source": [
    "def dichotomy_pow(x, y):\n",
    "    q = x\n",
    "    if y % 2 == 1:\n",
    "        z = x\n",
    "    else:\n",
    "        z = 1\n",
    "    y = y >> 1  \n",
    "    while y > 0:\n",
    "        q = q * q\n",
    "        if y % 2 == 1:\n",
    "            z = z * q\n",
    "        y = y >> 1\n",
    "    return z"
   ]
  },
  {
   "cell_type": "code",
   "execution_count": null,
   "id": "0860638b",
   "metadata": {},
   "outputs": [],
   "source": [
    "def standart(x, y):\n",
    "    res = 1\n",
    "    for i in range(0, y):\n",
    "        res *= x\n",
    "    return res"
   ]
  },
  {
   "cell_type": "code",
   "execution_count": null,
   "id": "e35754df",
   "metadata": {},
   "outputs": [],
   "source": [
    "# Тестирование\n",
    "def test(x, y):\n",
    "    start = time.time_ns()\n",
    "    result_1 = dichotomy_pow(x, y)\n",
    "    time1=time.time_ns() - start\n",
    "    print(f\"Дихотомический алгоритм: {time1} ns\")\n",
    "    print(result_1)\n",
    "    start = time.time_ns()\n",
    "    result_2 = standart(x, y) \n",
    "    time2 = time.time_ns() - start\n",
    "    print(f\"Возведение через последовательное умножение: {time2} ns\")\n",
    "    print(result_2)\n",
    "    if result_1 == result_2:\n",
    "        print(\"Результат совпадает\")\n",
    "    else:\n",
    "        print(\"Результат не совпадает\")\n",
    "    #print(f\"Дихотомический алгоритм работает быстрее в {round((time2/time1),1)} раз\")"
   ]
  },
  {
   "cell_type": "code",
   "execution_count": null,
   "id": "b9d734c8",
   "metadata": {},
   "outputs": [],
   "source": [
    "x = int(input(\"x:  \"))\n",
    "y = int(input(\"y:  \"))\n",
    "test(x, y)"
   ]
  },
  {
   "cell_type": "code",
   "execution_count": null,
   "id": "cc57ca1f",
   "metadata": {},
   "outputs": [],
   "source": [
    "x = 99999999999999999999999999999999999999999999999999999999999999999999999999999999988888888888888888888888888888888888888888888888888888888888888888888888\n",
    "y = 6789\n",
    "test(x, y)"
   ]
  },
  {
   "cell_type": "code",
   "execution_count": null,
   "id": "3a040d1b",
   "metadata": {},
   "outputs": [],
   "source": [
    "def dichotomy_pow_mod(x, y, n):\n",
    "    q = x % n\n",
    "    z = x % n if y % 2 == 1 else 1\n",
    "    y = y >> 1\n",
    "    while y > 0:\n",
    "        q = (q * q) % n\n",
    "        if y % 2 == 1:\n",
    "            z = (z * q) % n\n",
    "        y = y >> 1\n",
    "    return z"
   ]
  }
 ],
 "metadata": {
  "kernelspec": {
   "display_name": "Python 3 (ipykernel)",
   "language": "python",
   "name": "python3"
  },
  "language_info": {
   "codemirror_mode": {
    "name": "ipython",
    "version": 3
   },
   "file_extension": ".py",
   "mimetype": "text/x-python",
   "name": "python",
   "nbconvert_exporter": "python",
   "pygments_lexer": "ipython3",
   "version": "3.11.0"
  }
 },
 "nbformat": 4,
 "nbformat_minor": 5
}
