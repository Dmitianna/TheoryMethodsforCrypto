{
 "cells": [
  {
   "cell_type": "code",
   "execution_count": 74,
   "id": "c9e5e798",
   "metadata": {},
   "outputs": [],
   "source": [
    "import random\n",
    "import sympy\n",
    "import time\n",
    "import math"
   ]
  },
  {
   "cell_type": "code",
   "execution_count": 75,
   "id": "3aa2db72",
   "metadata": {},
   "outputs": [],
   "source": [
    "def factorize(n):\n",
    "    fac = factorint(n)\n",
    "    return fac"
   ]
  },
  {
   "cell_type": "code",
   "execution_count": 76,
   "id": "6615364d",
   "metadata": {},
   "outputs": [],
   "source": [
    "def dichotomy_pow_mod(x, y, n):\n",
    "    q = x % n\n",
    "    z = x % n if y % 2 == 1 else 1\n",
    "    y = y >> 1\n",
    "    while y > 0:\n",
    "        q = (q * q) % n\n",
    "        if y % 2 == 1:\n",
    "            z = (z * q) % n\n",
    "        y = y >> 1\n",
    "    return z"
   ]
  },
  {
   "cell_type": "code",
   "execution_count": 77,
   "id": "417a8ab7",
   "metadata": {},
   "outputs": [],
   "source": [
    "def lucas_primality_test(n, t, factorization=None):\n",
    "    if n <= 3 or n % 2 == 0:\n",
    "        return False\n",
    "    if factorization is None:\n",
    "        fac = factorize(n - 1)\n",
    "    else:\n",
    "        fac = factorization\n",
    "    prime_divs = list(fac.keys())\n",
    "    for k in range(t):\n",
    "        a = random.randrange(2, n - 1)\n",
    "        if math.gcd(a, n) != 1:\n",
    "            continue\n",
    "        if dichotomy_pow_mod(a, n - 1, n) != 1:\n",
    "            continue\n",
    "        is_primitive = True\n",
    "        for p in prime_divs:\n",
    "            if dichotomy_pow_mod(a, (n - 1) // p, n) == 1:\n",
    "                is_primitive = False\n",
    "                break\n",
    "        if is_primitive:\n",
    "            return True\n",
    "    return False"
   ]
  },
  {
   "cell_type": "code",
   "execution_count": 78,
   "id": "94c41318",
   "metadata": {},
   "outputs": [],
   "source": [
    "def input_factorization():\n",
    "    print(\"Введите разложение n-1 на простые множители в формате p1^e1 p2^e2 ... (через пробел)\")\n",
    "    fac_str = input(\"Введите разложение: \").strip()\n",
    "    fac = {}\n",
    "    for token in fac_str.split():\n",
    "        if '^' in token:\n",
    "            p, e = token.split('^')\n",
    "            fac[int(p)] = int(e)\n",
    "        else:\n",
    "            fac[int(token)] = 1\n",
    "    return fac"
   ]
  },
  {
   "cell_type": "code",
   "execution_count": 79,
   "id": "229acd0f",
   "metadata": {},
   "outputs": [],
   "source": [
    "def error_probability(n,t):\n",
    "    return (1 - (sympy.totient(n)/(n-1))) ** (t)"
   ]
  },
  {
   "cell_type": "code",
   "execution_count": 80,
   "id": "7eafdc58",
   "metadata": {},
   "outputs": [],
   "source": [
    "def main():\n",
    "    print(\"Выберите режим:\")\n",
    "    print(\"1 — Ввести только число (разложение будет вычислено автоматически).\")\n",
    "    print(\"2 — Ввести число и разложение n-1 на простые множители вручную\")\n",
    "    mode = input(\"Ваш выбор: \").strip()\n",
    "    n = int(input(\"Введите число для проверки на простоту: \"))\n",
    "    k = int(input(\"Введите количество итераций теста (по умолчанию 10): \") or \"10\")\n",
    "    if n < 3:\n",
    "        print(\"Задайте n больше 3\")\n",
    "        return -1\n",
    "    if mode == '1':\n",
    "        start = time.time_ns()\n",
    "        factorization = None \n",
    "        result = lucas_primality_test(n, k, factorization)\n",
    "        time_lucas = time.time_ns() - start\n",
    "    elif mode == '2':\n",
    "        factorization = input_factorization()\n",
    "        start = time.time_ns()\n",
    "        result = lucas_primality_test(n, k, factorization)\n",
    "        time_lucas = time.time_ns() - start\n",
    "    else:\n",
    "        print(\"Некорректный выбор!\")\n",
    "        return -1\n",
    "\n",
    "    if result:\n",
    "        print(f\"{n} — простое по критерию Люка.\")\n",
    "        print(f\"Время выполнения: {time_lucas} нс\")\n",
    "    else:\n",
    "        print(f\"{n} — составное по критерию Люка.\")\n",
    "        print(f\"Время выполнения: {time_lucas} нс\")\n",
    "        print(f\"Вероятность ошибки не более: {error_probability(n,k):.5f}\")"
   ]
  },
  {
   "cell_type": "code",
   "execution_count": 83,
   "id": "f665cdf7",
   "metadata": {
    "scrolled": true
   },
   "outputs": [
    {
     "name": "stdout",
     "output_type": "stream",
     "text": [
      "Выберите режим:\n",
      "1 — Ввести только число (разложение будет вычислено автоматически).\n",
      "2 — Ввести число и разложение n-1 на простые множители вручную\n",
      "Ваш выбор: 1\n",
      "Введите число для проверки на простоту: 6832192679297249050457491500195961259187726334516395\n",
      "Введите количество итераций теста (по умолчанию 10): 12\n",
      "6832192679297249050457491500195961259187726334516395 — составное по критерию Люка.\n",
      "Время выполнения: 53408347700 нс\n",
      "Вероятность ошибки не более: 0.00086\n"
     ]
    }
   ],
   "source": [
    "if __name__ == \"__main__\":\n",
    "    main()"
   ]
  },
  {
   "cell_type": "code",
   "execution_count": 113,
   "id": "bed262bc",
   "metadata": {},
   "outputs": [],
   "source": [
    "#---------Тесты----------------------------------------------------------------------------------------------------------------"
   ]
  },
  {
   "cell_type": "code",
   "execution_count": null,
   "id": "0c3ed285",
   "metadata": {},
   "outputs": [],
   "source": [
    "''' Ферма\n",
    "Режим: 1/2\n",
    "Число: 340282366920938463463374607431768211457\n",
    "Итераций: 5\n",
    "Разложение: 2^128\n",
    "'''"
   ]
  },
  {
   "cell_type": "code",
   "execution_count": null,
   "id": "df94c6c1",
   "metadata": {},
   "outputs": [],
   "source": [
    "''' Ферма\n",
    "Режим: 1/2\n",
    "Число: 115792089237316195423570985008687907853269984665640564039457584007913129639937  \n",
    "Итераций: 5\n",
    "Разложение: 2^256\n",
    "'''"
   ]
  },
  {
   "cell_type": "code",
   "execution_count": null,
   "id": "e3ce242f",
   "metadata": {},
   "outputs": [],
   "source": [
    "''' \n",
    "Режим: 2\n",
    "Число: 61299999564368837326003500001\n",
    "Итераций: 5\n",
    "Разложение: 2^50 3^20 5^6\n",
    "'''"
   ]
  }
 ],
 "metadata": {
  "kernelspec": {
   "display_name": "Python 3 (ipykernel)",
   "language": "python",
   "name": "python3"
  },
  "language_info": {
   "codemirror_mode": {
    "name": "ipython",
    "version": 3
   },
   "file_extension": ".py",
   "mimetype": "text/x-python",
   "name": "python",
   "nbconvert_exporter": "python",
   "pygments_lexer": "ipython3",
   "version": "3.11.0"
  }
 },
 "nbformat": 4,
 "nbformat_minor": 5
}
