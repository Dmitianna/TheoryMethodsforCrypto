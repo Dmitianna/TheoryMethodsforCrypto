{
 "cells": [
  {
   "cell_type": "code",
   "execution_count": 7,
   "id": "2304ffcd",
   "metadata": {},
   "outputs": [],
   "source": [
    "import random\n",
    "import sys\n",
    "import time"
   ]
  },
  {
   "cell_type": "code",
   "execution_count": 8,
   "id": "9be9b6ca",
   "metadata": {},
   "outputs": [],
   "source": [
    "def gcd_euclid(a, b):\n",
    "    while b != 0:\n",
    "        a, b = b, a % b \n",
    "    return a"
   ]
  },
  {
   "cell_type": "code",
   "execution_count": 9,
   "id": "bf33aa7b",
   "metadata": {},
   "outputs": [],
   "source": [
    "def dichotomy_pow_mod(x, y, mod):\n",
    "    q = x % mod\n",
    "    if y % 2 == 1:\n",
    "        z = x % mod\n",
    "    else:\n",
    "        z = 1\n",
    "    y = y >> 1  \n",
    "    while y > 0:\n",
    "        q = (q * q) % mod\n",
    "        if y % 2 == 1:\n",
    "            z = (z * q) % mod\n",
    "        y = y >> 1\n",
    "    return z"
   ]
  },
  {
   "cell_type": "code",
   "execution_count": 10,
   "id": "c10f622e",
   "metadata": {},
   "outputs": [],
   "source": [
    "def is_prime_fermat_custom(n, k=10):\n",
    "    if n < 3:\n",
    "        return False\n",
    "    for i in range(k):\n",
    "        a = random.randint(2, n - 2)\n",
    "        if gcd_euclid(a, n) != 1:\n",
    "            continue  \n",
    "        power = dichotomy_pow_mod(a, n - 1, n)\n",
    "        if power != 1:\n",
    "            return False\n",
    "    return True"
   ]
  },
  {
   "cell_type": "code",
   "execution_count": 11,
   "id": "67e4c1e4",
   "metadata": {},
   "outputs": [],
   "source": [
    "def fermat_error_probability(k):\n",
    "    return 1 / (2 ** k)"
   ]
  },
  {
   "cell_type": "code",
   "execution_count": 14,
   "id": "8ab19cba",
   "metadata": {},
   "outputs": [
    {
     "name": "stdout",
     "output_type": "stream",
     "text": [
      "Введите число для проверки на простоту: 4836999035062283692082565819321659623543395692204355\n",
      "Введите количество итераций теста Ферма: 5\n",
      "4836999035062283692082565819321659623543395692204355 — составное число.\n",
      "Время выполнения: 0 ns\n"
     ]
    }
   ],
   "source": [
    "n = int(input(\"Введите число для проверки на простоту: \"))\n",
    "k = int(input(\"Введите количество итераций теста Ферма: \"))\n",
    "\n",
    "start = time.time_ns()\n",
    "if is_prime_fermat_custom(n, k):\n",
    "    time1 = time.time_ns() - start\n",
    "    print(f\"{n} — вероятно простое число.\")\n",
    "    print(f\"Время выполнения: {time1} ns\")\n",
    "    print(f\"Вероятность ошибки не более: {fermat_error_probability(k):.6f}\")\n",
    "else:\n",
    "    time1 = time.time_ns() - start\n",
    "    print(f\"{n} — составное число.\")\n",
    "    print(f\"Время выполнения: {time1} ns\")"
   ]
  }
 ],
 "metadata": {
  "kernelspec": {
   "display_name": "Python 3 (ipykernel)",
   "language": "python",
   "name": "python3"
  },
  "language_info": {
   "codemirror_mode": {
    "name": "ipython",
    "version": 3
   },
   "file_extension": ".py",
   "mimetype": "text/x-python",
   "name": "python",
   "nbconvert_exporter": "python",
   "pygments_lexer": "ipython3",
   "version": "3.11.0"
  }
 },
 "nbformat": 4,
 "nbformat_minor": 5
}
