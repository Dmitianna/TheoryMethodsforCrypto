{
 "cells": [
  {
   "cell_type": "code",
   "execution_count": 164,
   "id": "c77a6982",
   "metadata": {},
   "outputs": [],
   "source": [
    "import time\n",
    "import sys\n",
    "sys.set_int_max_str_digits(0)"
   ]
  },
  {
   "cell_type": "code",
   "execution_count": 165,
   "id": "a3ce1df6",
   "metadata": {},
   "outputs": [],
   "source": [
    "def number_to_digits(x, b):\n",
    "    number_list = []\n",
    "    while x > 0:\n",
    "        d = x % b\n",
    "        number_list.insert(0, d)\n",
    "        x //= b\n",
    "    number_list = number_list[::-1]\n",
    "    return number_list"
   ]
  },
  {
   "cell_type": "code",
   "execution_count": 166,
   "id": "ddec9c1c",
   "metadata": {},
   "outputs": [],
   "source": [
    "def fast_square(x, b):\n",
    "    n = len(x)\n",
    "    y = [0] * (2 * n + 1)\n",
    "    for i in range(n):\n",
    "        # Шаг 2.1\n",
    "        uv = y[2 * i] + x[i] * x[i]\n",
    "        y[2 * i] = uv % b\n",
    "        cu = uv // b\n",
    "        # Шаг 2.2\n",
    "        for j in range(i + 1, n):\n",
    "            cuv = y[i + j] + 2 * x[i] * x[j] + cu\n",
    "            y[i + j] = cuv % b\n",
    "            cu = cuv // b\n",
    "        y[i + n] += cu % b\n",
    "        y[i + n + 1] += cu // b\n",
    "    return y"
   ]
  },
  {
   "cell_type": "code",
   "execution_count": 167,
   "id": "9c6c0966",
   "metadata": {},
   "outputs": [],
   "source": [
    "def to_decimal(x, b):\n",
    "    decimal_number = 0\n",
    "    for i, digit in enumerate(x):\n",
    "        decimal_number += digit * (b ** i)\n",
    "    return decimal_number"
   ]
  },
  {
   "cell_type": "code",
   "execution_count": 168,
   "id": "7ed16304",
   "metadata": {},
   "outputs": [],
   "source": [
    "def ordinary_square(x):\n",
    "    x = x * x\n",
    "    return x"
   ]
  },
  {
   "cell_type": "code",
   "execution_count": 169,
   "id": "5a6197bc",
   "metadata": {},
   "outputs": [],
   "source": [
    "def test(x, b):\n",
    "    number_list = number_to_digits(x, b)\n",
    "    start = time.time_ns()\n",
    "    result_1 = fast_square(number_list, b)\n",
    "    time1 = time.time_ns() - start\n",
    "    result_1 = to_decimal(result_1, b)\n",
    "    print(f\"Быстрое возведение: {time1} ns\")  \n",
    "    print(f\"Результат быстрого возведения: {result_1}\")\n",
    "    \n",
    "    start = time.time_ns()\n",
    "    result_2 = ordinary_square(x)\n",
    "    time2 = time.time_ns() - start\n",
    "    print(f\"Возведение через стандартное умножение: {time2} ns\")\n",
    "    print(f\"Результат стандартного возведения: {result_2}\")\n",
    "    \n",
    "    # Сравниваем результаты\n",
    "    if result_1 == result_2:\n",
    "        print(\"Результат совпадает\")\n",
    "    else:\n",
    "        print(\"Результат не совпадает\")"
   ]
  },
  {
   "cell_type": "code",
   "execution_count": 172,
   "id": "3abd85f1",
   "metadata": {},
   "outputs": [
    {
     "name": "stdout",
     "output_type": "stream",
     "text": [
      "Введите число: 68888888888888888888888888888888888888888888888888888888888888888888888888888888666666666666666666666666666666666666666666666666666666666666666666777777777777777777777777777777777777777777777777777777777777777777777777777777\n",
      "Быстрое возведение: 5632600 ns\n",
      "Результат быстрого возведения: 4745679012345679012345679012345679012345679012345679012345679012345679012345678981728395061728395061728395061728395061728395061728395061728395061743703703703703753086419753086419753086419753086419753086419753086419753086419645876543209876543209876543209876543209876543209876543209876543209876555555555555901234567901234567901234567901234567901234567901234567901234567901061728395061728395061728395061728395061728395061728395061728395061728395061729\n",
      "Возведение через стандартное умножение: 0 ns\n",
      "Результат стандартного возведения: 4745679012345679012345679012345679012345679012345679012345679012345679012345678981728395061728395061728395061728395061728395061728395061728395061743703703703703753086419753086419753086419753086419753086419753086419753086419645876543209876543209876543209876543209876543209876543209876543209876555555555555901234567901234567901234567901234567901234567901234567901234567901061728395061728395061728395061728395061728395061728395061728395061728395061729\n",
      "Результат совпадает\n"
     ]
    }
   ],
   "source": [
    "x = int(input(\"Введите число: \"))\n",
    "if x < 0:\n",
    "    print(\"Ошибка: Число должно быть больше или равно 0.\")\n",
    "elif x >= 0:\n",
    "    test(x, 10)"
   ]
  },
  {
   "cell_type": "code",
   "execution_count": null,
   "id": "e9204cee",
   "metadata": {},
   "outputs": [],
   "source": []
  },
  {
   "cell_type": "code",
   "execution_count": null,
   "id": "302a556c",
   "metadata": {},
   "outputs": [],
   "source": []
  }
 ],
 "metadata": {
  "kernelspec": {
   "display_name": "Python 3 (ipykernel)",
   "language": "python",
   "name": "python3"
  },
  "language_info": {
   "codemirror_mode": {
    "name": "ipython",
    "version": 3
   },
   "file_extension": ".py",
   "mimetype": "text/x-python",
   "name": "python",
   "nbconvert_exporter": "python",
   "pygments_lexer": "ipython3",
   "version": "3.11.0"
  }
 },
 "nbformat": 4,
 "nbformat_minor": 5
}
