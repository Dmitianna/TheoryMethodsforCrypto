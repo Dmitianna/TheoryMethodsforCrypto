{
 "cells": [
  {
   "cell_type": "code",
   "execution_count": 44,
   "id": "587c0785",
   "metadata": {},
   "outputs": [],
   "source": [
    "# Алгоритм Барретта приведения чисел по модулю"
   ]
  },
  {
   "cell_type": "code",
   "execution_count": 45,
   "id": "92c78e17",
   "metadata": {},
   "outputs": [],
   "source": [
    "import time\n",
    "import sys\n",
    "sys.set_int_max_str_digits(0)"
   ]
  },
  {
   "cell_type": "code",
   "execution_count": 46,
   "id": "2c9f7777",
   "metadata": {},
   "outputs": [],
   "source": [
    "def Barrett_algorithm(m, x, b):\n",
    "    k = len(str(m))\n",
    "    if ((b > 3) and (len(str(x)) <= 2* k)):\n",
    "        z = b ** (2 * k) // m\n",
    "        q = ((x // b ** (k - 1)) * z) // b ** (k + 1)\n",
    "        r_1 = x - q* m\n",
    "        while (r_1 >= m):\n",
    "            r_1 -= m\n",
    "    elif (len(str(x)) <= 2* len(str(m))):\n",
    "        print('b должно быть больше 3!')\n",
    "        sys.exit\n",
    "    elif (b > 3):\n",
    "        print('длина x должна быть не более удвоенной длины m')\n",
    "        sys.exit\n",
    "    return r_1"
   ]
  },
  {
   "cell_type": "code",
   "execution_count": 47,
   "id": "dab30378",
   "metadata": {},
   "outputs": [],
   "source": [
    "def sub(x, m):\n",
    "    while x >= m:\n",
    "        x -= m\n",
    "    return x"
   ]
  },
  {
   "cell_type": "code",
   "execution_count": 48,
   "id": "d0a02eeb",
   "metadata": {},
   "outputs": [],
   "source": [
    "def test(m, x, b):    \n",
    "    start = time.time_ns()\n",
    "    result_1 = Barrett_algorithm(m, x, b)\n",
    "    time1=time.time_ns() - start\n",
    "    print(f'Барретт: {time1} ns')\n",
    "    print(result_1)\n",
    "    start = time.time_ns()\n",
    "    result_2 = sub(x, m)\n",
    "    time2 = time.time_ns() - start\n",
    "    print(f'Через вычитание: {time2} ns')\n",
    "    print(result_2)\n",
    "    if result_1 == result_2:\n",
    "        print('Результат совпадает')\n",
    "    else:\n",
    "        print('Результат не совпадает')\n",
    "    #print(f\"Алгоритм Барретта работает быстрее в {round((time2/time1),1)} раз\")'''"
   ]
  },
  {
   "cell_type": "code",
   "execution_count": 50,
   "id": "e83912cb",
   "metadata": {},
   "outputs": [
    {
     "name": "stdout",
     "output_type": "stream",
     "text": [
      "x:  78767876876567876587657655765876876555676767877876766567565765665\n",
      "m:  6789767987678768798787678768766565667\n",
      "b:  10\n",
      "Барретт: 0 ns\n",
      "3772980206949028645440266807004580399\n"
     ]
    },
    {
     "ename": "KeyboardInterrupt",
     "evalue": "",
     "output_type": "error",
     "traceback": [
      "\u001b[1;31m---------------------------------------------------------------------------\u001b[0m",
      "\u001b[1;31mKeyboardInterrupt\u001b[0m                         Traceback (most recent call last)",
      "Cell \u001b[1;32mIn [50], line 4\u001b[0m\n\u001b[0;32m      2\u001b[0m m \u001b[38;5;241m=\u001b[39m \u001b[38;5;28mint\u001b[39m(\u001b[38;5;28minput\u001b[39m(\u001b[38;5;124m\"\u001b[39m\u001b[38;5;124mm:  \u001b[39m\u001b[38;5;124m\"\u001b[39m))\n\u001b[0;32m      3\u001b[0m b \u001b[38;5;241m=\u001b[39m \u001b[38;5;28mint\u001b[39m(\u001b[38;5;28minput\u001b[39m(\u001b[38;5;124m\"\u001b[39m\u001b[38;5;124mb:  \u001b[39m\u001b[38;5;124m\"\u001b[39m))\n\u001b[1;32m----> 4\u001b[0m \u001b[43mtest\u001b[49m\u001b[43m(\u001b[49m\u001b[43mm\u001b[49m\u001b[43m,\u001b[49m\u001b[43m \u001b[49m\u001b[43mx\u001b[49m\u001b[43m,\u001b[49m\u001b[43m \u001b[49m\u001b[43mb\u001b[49m\u001b[43m)\u001b[49m\n",
      "Cell \u001b[1;32mIn [48], line 8\u001b[0m, in \u001b[0;36mtest\u001b[1;34m(m, x, b)\u001b[0m\n\u001b[0;32m      6\u001b[0m \u001b[38;5;28mprint\u001b[39m(result_1)\n\u001b[0;32m      7\u001b[0m start \u001b[38;5;241m=\u001b[39m time\u001b[38;5;241m.\u001b[39mtime_ns()\n\u001b[1;32m----> 8\u001b[0m result_2 \u001b[38;5;241m=\u001b[39m \u001b[43msub\u001b[49m\u001b[43m(\u001b[49m\u001b[43mx\u001b[49m\u001b[43m,\u001b[49m\u001b[43m \u001b[49m\u001b[43mm\u001b[49m\u001b[43m)\u001b[49m\n\u001b[0;32m      9\u001b[0m time2 \u001b[38;5;241m=\u001b[39m time\u001b[38;5;241m.\u001b[39mtime_ns() \u001b[38;5;241m-\u001b[39m start\n\u001b[0;32m     10\u001b[0m \u001b[38;5;28mprint\u001b[39m(\u001b[38;5;124mf\u001b[39m\u001b[38;5;124m'\u001b[39m\u001b[38;5;124mЧерез вычитание: \u001b[39m\u001b[38;5;132;01m{\u001b[39;00mtime2\u001b[38;5;132;01m}\u001b[39;00m\u001b[38;5;124m ns\u001b[39m\u001b[38;5;124m'\u001b[39m)\n",
      "Cell \u001b[1;32mIn [47], line 2\u001b[0m, in \u001b[0;36msub\u001b[1;34m(x, m)\u001b[0m\n\u001b[0;32m      1\u001b[0m \u001b[38;5;28;01mdef\u001b[39;00m \u001b[38;5;21msub\u001b[39m(x, m):\n\u001b[1;32m----> 2\u001b[0m     \u001b[38;5;28;01mwhile\u001b[39;00m x \u001b[38;5;241m>\u001b[39m\u001b[38;5;241m=\u001b[39m m:\n\u001b[0;32m      3\u001b[0m         x \u001b[38;5;241m-\u001b[39m\u001b[38;5;241m=\u001b[39m m\n\u001b[0;32m      4\u001b[0m     \u001b[38;5;28;01mreturn\u001b[39;00m x\n",
      "\u001b[1;31mKeyboardInterrupt\u001b[0m: "
     ]
    }
   ],
   "source": [
    "x = int(input(\"x:  \"))\n",
    "m = int(input(\"m:  \"))\n",
    "test(m, x, 10)"
   ]
  },
  {
   "cell_type": "code",
   "execution_count": null,
   "id": "092249f8",
   "metadata": {},
   "outputs": [],
   "source": []
  },
  {
   "cell_type": "code",
   "execution_count": null,
   "id": "2d0c5760",
   "metadata": {},
   "outputs": [],
   "source": []
  }
 ],
 "metadata": {
  "kernelspec": {
   "display_name": "Python 3 (ipykernel)",
   "language": "python",
   "name": "python3"
  },
  "language_info": {
   "codemirror_mode": {
    "name": "ipython",
    "version": 3
   },
   "file_extension": ".py",
   "mimetype": "text/x-python",
   "name": "python",
   "nbconvert_exporter": "python",
   "pygments_lexer": "ipython3",
   "version": "3.11.0"
  }
 },
 "nbformat": 4,
 "nbformat_minor": 5
}
