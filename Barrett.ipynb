{
 "cells": [
  {
   "cell_type": "code",
   "execution_count": null,
   "id": "587c0785",
   "metadata": {},
   "outputs": [],
   "source": [
    "# Алгоритм Барретта приведения чисел по модулю"
   ]
  },
  {
   "cell_type": "code",
   "execution_count": null,
   "id": "92c78e17",
   "metadata": {},
   "outputs": [],
   "source": [
    "import time\n",
    "import sys\n",
    "sys.set_int_max_str_digits(0)"
   ]
  },
  {
   "cell_type": "code",
   "execution_count": null,
   "id": "2c9f7777",
   "metadata": {},
   "outputs": [],
   "source": [
    "def Barrett_algorithm(m, x, b):\n",
    "    k = len(str(m))\n",
    "    if ((b > 3) and (len(str(x)) <= 2* k)):\n",
    "        z = b ** (2 * k) // m\n",
    "        q = ((x // b ** (k - 1)) * z) // b ** (k + 1)\n",
    "        r_1 = x - q* m\n",
    "        while (r_1 >= m):\n",
    "            r_1 -= m\n",
    "    elif (len(str(x)) <= 2* len(str(m))):\n",
    "        print('b должно быть больше 3!')\n",
    "        sys.exit\n",
    "    elif (b > 3):\n",
    "        print('длина x должна быть не более удвоенной длины m')\n",
    "        sys.exit\n",
    "    return r_1"
   ]
  },
  {
   "cell_type": "code",
   "execution_count": null,
   "id": "dab30378",
   "metadata": {},
   "outputs": [],
   "source": [
    "def sub(x, m):\n",
    "    while x >= m:\n",
    "        x -= m\n",
    "    return x"
   ]
  },
  {
   "cell_type": "code",
   "execution_count": null,
   "id": "d0a02eeb",
   "metadata": {},
   "outputs": [],
   "source": [
    "def test(m, x, b):    \n",
    "    start = time.time_ns()\n",
    "    result_1 = Barrett_algorithm(m, x, b)\n",
    "    time1=time.time_ns() - start\n",
    "    print(f'Барретт: {time1} ns')\n",
    "    print(result_1)\n",
    "    start = time.time_ns()\n",
    "    result_2 = sub(x, m)\n",
    "    time2 = time.time_ns() - start\n",
    "    print(f'Через вычитание: {time2} ns')\n",
    "    print(result_2)\n",
    "    if result_1 == result_2:\n",
    "        print('Результат совпадает')\n",
    "    else:\n",
    "        print('Результат не совпадает')\n",
    "    #print(f\"Алгоритм Барретта работает быстрее в {round((time2/time1),1)} раз\")'''"
   ]
  },
  {
   "cell_type": "code",
   "execution_count": null,
   "id": "e83912cb",
   "metadata": {},
   "outputs": [],
   "source": [
    "x = int(input(\"x:  \"))\n",
    "m = int(input(\"m:  \"))\n",
    "test(m, x, 10)"
   ]
  }
 ],
 "metadata": {
  "kernelspec": {
   "display_name": "Python 3 (ipykernel)",
   "language": "python",
   "name": "python3"
  },
  "language_info": {
   "codemirror_mode": {
    "name": "ipython",
    "version": 3
   },
   "file_extension": ".py",
   "mimetype": "text/x-python",
   "name": "python",
   "nbconvert_exporter": "python",
   "pygments_lexer": "ipython3",
   "version": "3.11.0"
  }
 },
 "nbformat": 4,
 "nbformat_minor": 5
}
