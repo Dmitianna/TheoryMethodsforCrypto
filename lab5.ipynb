{
 "cells": [
  {
   "cell_type": "code",
   "execution_count": 17,
   "id": "15871320",
   "metadata": {},
   "outputs": [],
   "source": [
    "import random\n",
    "import time\n",
    "import sympy"
   ]
  },
  {
   "cell_type": "code",
   "execution_count": 18,
   "id": "d03577d2",
   "metadata": {},
   "outputs": [],
   "source": [
    "def dichotomy_pow_mod(x, y, n):\n",
    "    q = x % n\n",
    "    z = x % n if y % 2 == 1 else 1\n",
    "    y = y >> 1\n",
    "    while y > 0:\n",
    "        q = (q * q) % n\n",
    "        if y % 2 == 1:\n",
    "            z = (z * q) % n\n",
    "        y = y >> 1\n",
    "    return z"
   ]
  },
  {
   "cell_type": "code",
   "execution_count": 19,
   "id": "924d712e",
   "metadata": {},
   "outputs": [],
   "source": [
    "def jacobi(a, n):\n",
    "    if a == 0:\n",
    "        return 0\n",
    "    if a == 1:\n",
    "        return 1\n",
    "    k = 0\n",
    "    while a % 2 == 0:\n",
    "        a //= 2\n",
    "        k += 1\n",
    "    a1 = a\n",
    "\n",
    "    if k % 2 == 0:\n",
    "        s = 1\n",
    "    else:\n",
    "        if n % 8 == 1 or n % 8 == 7:\n",
    "            s = 1\n",
    "        else:\n",
    "            s = -1\n",
    "    if n % 4 == 3 and a1 % 4 == 3:\n",
    "        s = -s\n",
    "\n",
    "    if a1 == 1:\n",
    "        return s\n",
    "    else:\n",
    "        return s * jacobi(n % a1, a1)"
   ]
  },
  {
   "cell_type": "code",
   "execution_count": 20,
   "id": "453eca9f",
   "metadata": {},
   "outputs": [],
   "source": [
    "def is_prime_solovay_strassen(n, t=10):\n",
    "    if n <= 3:\n",
    "        return False\n",
    "    if n % 2 == 0:\n",
    "        return False\n",
    "    for i in range(t):\n",
    "        a = random.randrange(2, n - 1)\n",
    "        r = dichotomy_pow_mod(a, (n - 1) // 2, n)\n",
    "        if r != 1 and r != n - 1:\n",
    "            return False\n",
    "        s = jacobi(a, n)\n",
    "        if r != s % n:\n",
    "            return False\n",
    "    return True  "
   ]
  },
  {
   "cell_type": "code",
   "execution_count": 21,
   "id": "5fbef014",
   "metadata": {},
   "outputs": [],
   "source": [
    "def is_prime_miller_rabin(n, k=10):\n",
    "    if n <= 3:\n",
    "        return False\n",
    "    if n <= 1 or n % 2 == 0:\n",
    "        return False\n",
    "    s = 0\n",
    "    r = n - 1\n",
    "    while r % 2 == 0:\n",
    "        s += 1\n",
    "        r //= 2\n",
    "    for i in range(k):\n",
    "        b = random.randrange(2, n - 1)\n",
    "        y = dichotomy_pow_mod(b, r, n)\n",
    "        if y != 1 and y != n - 1:\n",
    "            j = 1\n",
    "            while((j < s) and (y != n - 1)):\n",
    "                y = dichotomy_pow_mod(y, 2, n)\n",
    "                if y==1: \n",
    "                    return False\n",
    "                j+=1\n",
    "            if (y != n - 1):\n",
    "                    return False\n",
    "    return True\n",
    "#Теорема Рабина утверждает, что составное нечётное число m имеет не более φ(m)/4 \n",
    "#различных свидетелей простоты"
   ]
  },
  {
   "cell_type": "code",
   "execution_count": 22,
   "id": "bf0a8cb9",
   "metadata": {},
   "outputs": [],
   "source": [
    "# Основная функция проверки простоты\n",
    "def main():\n",
    "    n = int(input(\"Введите число для проверки на простоту: \"))\n",
    "    k = int(input(\"Введите количество итераций теста (по умолчанию 10): \"))\n",
    "    if n < 3:\n",
    "        print(\"Задайте n больше 3\")\n",
    "        return -1\n",
    "    else:\n",
    "        phi_value = sympy.totient(n)\n",
    "    # Тест Миллера-Рабина\n",
    "    start = time.time_ns()\n",
    "    if is_prime_miller_rabin(n, k):\n",
    "        time_mr = time.time_ns() - start\n",
    "        error_mr = (phi_value / (4 * n)) ** k\n",
    "        print(f\"{n} — вероятно простое число по тесту Миллера-Рабина.\")\n",
    "        print(f\"Время выполнения: {time_mr} ns\")\n",
    "        print(f\"Вероятность ошибки не более: {error_mr:.10f}\")\n",
    "    else:\n",
    "        time_mr = time.time_ns() - start\n",
    "        print(f\"{n} — составное число по тесту Миллера-Рабина.\")\n",
    "        print(f\"Время выполнения: {time_mr} ns\")\n",
    "\n",
    "    # Тест Соловея-Штрассена\n",
    "    start = time.time_ns()\n",
    "    if is_prime_solovay_strassen(n, k):\n",
    "        time_ss = time.time_ns() - start\n",
    "        error_ss = (phi_value / (2 * n)) ** k\n",
    "        print(f\"{n} — вероятно простое число по тесту Соловея-Штрассена.\")\n",
    "        print(f\"Время выполнения: {time_ss} ns\")\n",
    "        print(f\"Вероятность ошибки не более: {error_ss:.10f}\")\n",
    "    else:\n",
    "        time_ss = time.time_ns() - start\n",
    "        print(f\"{n} — составное число по тесту Соловея-Штрассена.\")\n",
    "        print(f\"Время выполнения: {time_ss} ns\")"
   ]
  },
  {
   "cell_type": "code",
   "execution_count": 25,
   "id": "529b9a9d",
   "metadata": {},
   "outputs": [
    {
     "name": "stdout",
     "output_type": "stream",
     "text": [
      "Введите число для проверки на простоту: 7777777777777777777777777777777777777777777777777777777777777777777777777777777777777777777777777777775555555555\n",
      "Введите количество итераций теста (по умолчанию 10): 6\n",
      "7777777777777777777777777777777777777777777777777777777777777777777777777777777777777777777777777777775555555555 — составное число по тесту Миллера-Рабина.\n",
      "Время выполнения: 0 ns\n",
      "7777777777777777777777777777777777777777777777777777777777777777777777777777777777777777777777777777775555555555 — составное число по тесту Соловея-Штрассена.\n",
      "Время выполнения: 0 ns\n"
     ]
    }
   ],
   "source": [
    "if __name__ == \"__main__\":\n",
    "    main()"
   ]
  },
  {
   "cell_type": "code",
   "execution_count": null,
   "id": "1dcb60ac",
   "metadata": {},
   "outputs": [],
   "source": [
    "***********"
   ]
  },
  {
   "cell_type": "code",
   "execution_count": 9,
   "id": "e8adf8dc",
   "metadata": {},
   "outputs": [
    {
     "name": "stdout",
     "output_type": "stream",
     "text": [
      "phi(n) от sympy: 0.004700183868408203 секунд\n",
      "phi(n) вручную: 6.091853857040405 секунд\n"
     ]
    }
   ],
   "source": [
    "def phi(n):\n",
    "    result = n\n",
    "    p = 2\n",
    "    while p * p <= n:\n",
    "        if n % p == 0:\n",
    "            while n % p == 0:\n",
    "                n //= p\n",
    "            result -= result // p\n",
    "        p += 1\n",
    "    if n > 1:\n",
    "        result -= result // n\n",
    "    return result\n",
    "\n",
    "n = 748643719085888866667777\n",
    "\n",
    "#время работы для функции sympy\n",
    "start = time.time()\n",
    "sympy_phi = sympy.totient(n)\n",
    "print(f\"phi(n) от sympy: {time.time() - start} секунд\")\n",
    "\n",
    "#время работы для ручной функции\n",
    "start = time.time()\n",
    "manual_phi = phi(n)\n",
    "print(f\"phi(n) вручную: {time.time() - start} секунд\")"
   ]
  },
  {
   "cell_type": "code",
   "execution_count": null,
   "id": "e0d4b8ea",
   "metadata": {},
   "outputs": [],
   "source": []
  }
 ],
 "metadata": {
  "kernelspec": {
   "display_name": "Python 3 (ipykernel)",
   "language": "python",
   "name": "python3"
  },
  "language_info": {
   "codemirror_mode": {
    "name": "ipython",
    "version": 3
   },
   "file_extension": ".py",
   "mimetype": "text/x-python",
   "name": "python",
   "nbconvert_exporter": "python",
   "pygments_lexer": "ipython3",
   "version": "3.11.0"
  }
 },
 "nbformat": 4,
 "nbformat_minor": 5
}
