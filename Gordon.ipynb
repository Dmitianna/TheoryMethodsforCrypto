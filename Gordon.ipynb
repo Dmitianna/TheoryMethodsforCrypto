{
 "cells": [
  {
   "cell_type": "code",
   "execution_count": 46,
   "id": "90d7984f",
   "metadata": {},
   "outputs": [],
   "source": [
    "import random\n",
    "import sympy\n",
    "import time\n",
    "import math"
   ]
  },
  {
   "cell_type": "code",
   "execution_count": 47,
   "id": "1d5cfd8d",
   "metadata": {},
   "outputs": [],
   "source": [
    "def dichotomy_pow_mod(x, y, n):\n",
    "    q = x % n\n",
    "    z = x % n if y % 2 == 1 else 1\n",
    "    y = y >> 1\n",
    "    while y > 0:\n",
    "        q = (q * q) % n\n",
    "        if y % 2 == 1:\n",
    "            z = (z * q) % n\n",
    "        y = y >> 1\n",
    "    return z"
   ]
  },
  {
   "cell_type": "code",
   "execution_count": 48,
   "id": "46437022",
   "metadata": {},
   "outputs": [],
   "source": [
    "def factorize(n):\n",
    "    fac = factorint(n)\n",
    "    return fac"
   ]
  },
  {
   "cell_type": "code",
   "execution_count": 49,
   "id": "9b24bd69",
   "metadata": {},
   "outputs": [],
   "source": [
    "def lucas_primality_test(n, t, factorization=None):\n",
    "    if n <= 3 or n % 2 == 0:\n",
    "        return False\n",
    "    if factorization is None:\n",
    "        fac = factorize(n - 1)\n",
    "    else:\n",
    "        fac = factorization\n",
    "    prime_divs = list(fac.keys())\n",
    "    for k in range(t):\n",
    "        a = random.randrange(2, n - 1)\n",
    "        if math.gcd(a, n) != 1:\n",
    "            continue\n",
    "        if dichotomy_pow_mod(a, n - 1, n) != 1:\n",
    "            continue\n",
    "        is_primitive = True\n",
    "        for p in prime_divs:\n",
    "            if dichotomy_pow_mod(a, (n - 1) // p, n) == 1:\n",
    "                is_primitive = False\n",
    "                break\n",
    "        if is_primitive:\n",
    "            return True\n",
    "    return False"
   ]
  },
  {
   "cell_type": "code",
   "execution_count": 50,
   "id": "7e9b70fb",
   "metadata": {},
   "outputs": [],
   "source": [
    "def is_prime_miller_rabin(n, k):\n",
    "    if n <= 3:\n",
    "        return False\n",
    "    if n <= 1 or n % 2 == 0:\n",
    "        return False\n",
    "    s = 0\n",
    "    r = n - 1\n",
    "    while r % 2 == 0:\n",
    "        s += 1\n",
    "        r //= 2\n",
    "    for i in range(k):\n",
    "        b = random.randrange(2, n - 1)\n",
    "        y = dichotomy_pow_mod(b, r, n)\n",
    "        if y != 1 and y != n - 1:\n",
    "            j = 1\n",
    "            while (j < s) and (y != n - 1):\n",
    "                y = dichotomy_pow_mod(y, 2, n)\n",
    "                if y == 1: \n",
    "                    return False\n",
    "                j += 1\n",
    "            if y != n - 1:\n",
    "                return False\n",
    "    return True"
   ]
  },
  {
   "cell_type": "code",
   "execution_count": 51,
   "id": "7fdc309f",
   "metadata": {},
   "outputs": [],
   "source": [
    "#-----------------------------Метод Гордона-------------------------------------------------------------------------------------"
   ]
  },
  {
   "cell_type": "code",
   "execution_count": 52,
   "id": "cadd075d",
   "metadata": {},
   "outputs": [],
   "source": [
    "def generate_large_prime(bits, k):\n",
    "    while True:\n",
    "        candidate = random.getrandbits(bits)\n",
    "        candidate |= (1 << (bits - 1))  # установить старший бит\n",
    "        candidate |= 1                  # сделать нечётным\n",
    "        if is_prime_miller_rabin(candidate, k):\n",
    "            return candidate"
   ]
  },
  {
   "cell_type": "code",
   "execution_count": 53,
   "id": "3ba062cb",
   "metadata": {},
   "outputs": [],
   "source": [
    "def gordon_strong_prime(bits , k):\n",
    "    s = generate_large_prime(bits, k)\n",
    "    t = generate_large_prime(bits, k)\n",
    "    #r = 2 * i * t + 1\n",
    "    i = random.randint(2, 1024)\n",
    "    while True:\n",
    "        r = 2 * i * t + 1\n",
    "        if is_prime_miller_rabin(r, k):\n",
    "            break\n",
    "        i += 1\n",
    "    #p0 = 2 * (s^(r-2) mod r) * s - 1\n",
    "    s_exp = dichotomy_pow_mod(s, r-2, r)\n",
    "    p0 = 2 * s_exp * s - 1\n",
    "    #p = 2 * j * r * s + p0\n",
    "    j = random.randint(2, 1024)\n",
    "    while True:\n",
    "        p = 2 * j * r * s + p0\n",
    "        if is_prime_miller_rabin(p, k) and lucas_primality_test(p,k):\n",
    "            break\n",
    "        j += 1\n",
    "    return p"
   ]
  },
  {
   "cell_type": "code",
   "execution_count": 45,
   "id": "263eacc2",
   "metadata": {},
   "outputs": [
    {
     "name": "stdout",
     "output_type": "stream",
     "text": [
      "Введите длину простого числа в битах: 2048\n",
      "Введите количество раундов Миллера-Рабина и Метода Люка: 64\n",
      "\n",
      "Сгенерированное вероятно простое число:\n",
      "26765462464528514963302802096707862087080776128216295602908530366269573727226573020077210535380248055603297534065350664128824084757461267137525538353834623538397041184451970415368478089923542233491120925110378434457662342751794149276879983200277340672805031948589356594590131820515788959600366720701797679156230366741575797363939438297374657977805661466422529280650501222257635495309751788393814922366890268717717900739528762699817173752180660441078158806922322688797819039576066913669377420567750356399758026869327306028204043197429816961485637966717222796931686243075257781920887995845433842810937594844213421655171\n",
      "Длина числа: 2048 бит\n",
      "Время генерации: 95304.35 ms (95.3043 s)\n"
     ]
    }
   ],
   "source": [
    "bits = int(input(\"Введите длину простого числа в битах: \"))\n",
    "k = int(input(\"Введите количество раундов Миллера-Рабина и Метода Люка: \"))\n",
    "\n",
    "start = time.time_ns()\n",
    "prime = generate_large_prime(bits, k)\n",
    "elapsed = time.time_ns() - start\n",
    "\n",
    "print(f\"\\nСгенерированное вероятно простое число:\\n{prime}\")\n",
    "print(f\"Длина числа: {prime.bit_length()} бит\")\n",
    "print(f\"Время генерации: {elapsed/1e6:.2f} ms ({elapsed/1e9:.4f} s)\")"
   ]
  }
 ],
 "metadata": {
  "kernelspec": {
   "display_name": "Python 3 (ipykernel)",
   "language": "python",
   "name": "python3"
  },
  "language_info": {
   "codemirror_mode": {
    "name": "ipython",
    "version": 3
   },
   "file_extension": ".py",
   "mimetype": "text/x-python",
   "name": "python",
   "nbconvert_exporter": "python",
   "pygments_lexer": "ipython3",
   "version": "3.11.0"
  }
 },
 "nbformat": 4,
 "nbformat_minor": 5
}
